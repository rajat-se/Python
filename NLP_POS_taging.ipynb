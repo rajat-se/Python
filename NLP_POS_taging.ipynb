import spacy
nlp=spacy.load("en_core_web_sm")
import docx2txt
import textract
import pandas as pd
txtfiledata = textract.process("input_filr.docx")
txtfiledata = txtfiledata.decode("utf-8") 
txt=nlp(txtfiledata)
word=[]
pos=[]
pos_full_form=[]
for token in txt:
    #print(token,"|", token.pos_,"|",spacy.explain(token.pos_))
    word.append(token)
    pos.append(token.pos_)
    pos_full_form.append(spacy.explain(token.pos_))
    df=pd.DataFrame(list(zip(word, pos, pos_full_form)), columns= [ "Word", " Pos", "Pos full form"])
    df.to_csv('output_file.csv')
